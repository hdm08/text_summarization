{
 "cells": [
  {
   "cell_type": "code",
   "execution_count": 1,
   "id": "080dcabc-a2a3-4b1b-a9c6-62c8c4127986",
   "metadata": {},
   "outputs": [],
   "source": [
    "# pip uninstall torch torchvision -y\n"
   ]
  },
  {
   "cell_type": "code",
   "execution_count": null,
   "id": "063d3a56-f9d3-438a-bd0e-4aea91fdc9ba",
   "metadata": {},
   "outputs": [],
   "source": [
    "# pip install torch torchvision --index-url https://download.pytorch.org/whl/cpu\n"
   ]
  },
  {
   "cell_type": "code",
   "execution_count": 5,
   "id": "b9d4244d-492d-4dc1-995e-d3e623683d8c",
   "metadata": {},
   "outputs": [],
   "source": [
    "from transformers import BartForConditionalGeneration, BartTokenizer"
   ]
  },
  {
   "cell_type": "code",
   "execution_count": 19,
   "id": "bb8f3d89-4c5a-4569-9300-749f3b4469ba",
   "metadata": {},
   "outputs": [],
   "source": [
    "# save_path = \"./models/bart-large-cnn\"\n",
    "\n",
    "# # Downloading model and tokenizer from Hugging Face\n",
    "# model = BartForConditionalGeneration.from_pretrained(\"facebook/bart-large-cnn\")\n",
    "# tokenizer = BartTokenizer.from_pretrained(\"facebook/bart-large-cnn\")\n",
    "\n",
    "# # Saving both model and tokenizer to local path\n",
    "# model.save_pretrained(save_path)\n",
    "# tokenizer.save_pretrained(save_path)\n",
    "\n",
    "# print(f\"Model and tokenizer saved to: {save_path}\")"
   ]
  },
  {
   "cell_type": "code",
   "execution_count": 10,
   "id": "7f02603f-da7c-40c4-bd15-720703b60bfd",
   "metadata": {},
   "outputs": [
    {
     "name": "stdout",
     "output_type": "stream",
     "text": [
      "\n",
      "Summarizing text (target 100 words):\n",
      "Input text: \n",
      "    Artificial intelligence (AI) is transforming industries worldwide. From healthcare to finance, ...\n",
      "Requested word count: 100\n",
      "Summary: Artificial intelligence (AI) is transforming industries worldwide. Concerns about AI ethics, including bias and privacy, are growing. Researchers are developing guidelines to ensure responsible AI use. Governments are also stepping in with regulations to address these issues. As AI continues to evolve, its potential to solve complex problems is immense. But balancing innovation with ethical considerations remains critical. For more information on AI and ethical issues, visit: http://www.cnn.com/2013/01/29/technology/ai-ethics-and-privacy-in-the-world/\n",
      "Approximate summary word count: 68\n"
     ]
    }
   ],
   "source": [
    "import requests\n",
    "import json\n",
    "\n",
    "API_URL = \"http://localhost/summarize/\"\n",
    "\n",
    "def send_post_request(text, word_count):\n",
    "    \"\"\"Send a POST request to the summarization API and print the response.\"\"\"\n",
    "    payload = {\n",
    "        \"text\": text,\n",
    "        \"word_count\": word_count\n",
    "    }\n",
    "    headers = {\"Content-Type\": \"application/json\"}\n",
    "    \n",
    "    print(f\"\\nSummarizing text (target {word_count} words):\")\n",
    "    print(f\"Input text: {text[:100]}...\" if len(text) > 100 else f\"Input text: {text}\")\n",
    "    print(f\"Requested word count: {word_count}\")\n",
    "    \n",
    "    try:\n",
    "        response = requests.post(API_URL, json=payload, headers=headers)\n",
    "        response.raise_for_status()\n",
    "        data = response.json()\n",
    "        print(\"Summary:\", data[\"summary\"])\n",
    "        print(f\"Approximate summary word count: {len(data['summary'].split())}\")\n",
    "    except requests.exceptions.HTTPError as http_err:\n",
    "        print(f\"HTTP error occurred: {http_err}\")\n",
    "        if response.text:\n",
    "            print(f\"Error details: {json.loads(response.text).get('detail', 'No details provided')}\")\n",
    "    except requests.exceptions.ConnectionError:\n",
    "        print(\"Failed to connect to the server. Ensure the FastAPI server is running at\", API_URL)\n",
    "    except requests.exceptions.RequestException as err:\n",
    "        print(f\"Request error: {err}\")\n",
    "\n",
    "def main():\n",
    "    # Sample article\n",
    "    article = \"\"\"\n",
    "    Artificial intelligence (AI) is transforming industries worldwide. From healthcare to finance, AI systems are improving efficiency and decision-making. Machine learning models analyze vast datasets to predict outcomes, while natural language processing enables chatbots to assist customers. However, concerns about AI ethics, including bias and privacy, are growing. Researchers are developing guidelines to ensure responsible AI use. Governments are also stepping in with regulations to address these issues. As AI continues to evolve, its potential to solve complex problems is immense, but balancing innovation with ethical considerations remains critical.\n",
    "    \"\"\"\n",
    "    \n",
    "    # Send POST request with word_count of 100\n",
    "    send_post_request(article, 100)\n",
    "\n",
    "if __name__ == \"__main__\":\n",
    "    main()\n"
   ]
  },
  {
   "cell_type": "code",
   "execution_count": null,
   "id": "05036030-4be7-41d4-9065-7ad29bd95eae",
   "metadata": {},
   "outputs": [],
   "source": []
  }
 ],
 "metadata": {
  "kernelspec": {
   "display_name": "Python 3 (ipykernel)",
   "language": "python",
   "name": "python3"
  },
  "language_info": {
   "codemirror_mode": {
    "name": "ipython",
    "version": 3
   },
   "file_extension": ".py",
   "mimetype": "text/x-python",
   "name": "python",
   "nbconvert_exporter": "python",
   "pygments_lexer": "ipython3",
   "version": "3.12.4"
  }
 },
 "nbformat": 4,
 "nbformat_minor": 5
}
