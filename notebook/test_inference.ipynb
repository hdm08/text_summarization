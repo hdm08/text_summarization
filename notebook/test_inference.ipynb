{
 "cells": [
  {
   "cell_type": "code",
   "execution_count": null,
   "metadata": {
    "vscode": {
     "languageId": "plaintext"
    }
   },
   "outputs": [],
   "source": [
    "{\n",
    " \"cells\": [\n",
    "  {\n",
    "   \"cell_type\": \"code\",\n",
    "   \"execution_count\": null,\n",
    "   \"metadata\": {},\n",
    "   \"outputs\": [],\n",
    "   \"source\": [\n",
    "    \"import requests\\n\",\n",
    "    \"\\n\",\n",
    "    \"# Define the API endpoint\\n\",\n",
    "    \"url = 'http://localhost/summarize'\\n\",\n",
    "    \"\\n\",\n",
    "    \"# Sample text for summarization\\n\",\n",
    "    \"text = \\\"\\\"\\\"\\n\",\n",
    "    \"The rapid advancement of artificial intelligence has transformed industries worldwide. From healthcare to finance, AI models are being used to automate tasks, improve decision-making, and enhance user experiences. Recent developments in natural language processing have enabled models to understand and generate human-like text, making them valuable for applications like chatbots, content creation, and translation.\\n\",\n",
    "    \"\\\"\\\"\\\"\\n\",\n",
    "    \"\\n\",\n",
    "    \"# Prepare the request payload\\n\",\n",
    "    \"payload = {\\n\",\n",
    "    \"    'text': text,\\n\",\n",
    "    \"    'max_length': 50,\\n\",\n",
    "    \"    'min_length': 20\\n\",\n",
    "    \"}\\n\",\n",
    "    \"\\n\",\n",
    "    \"# Send POST request\\n\",\n",
    "    \"response = requests.post(url, json=payload)\\n\",\n",
    "    \"\\n\",\n",
    "    \"# Check response\\n\",\n",
    "    \"if response.status_code == 200:\\n\",\n",
    "    \"    print('Summary:', response.json()['summary'])\\n\",\n",
    "    \"else:\\n\",\n",
    "    \"    print('Error:', response.json()['detail'])\"\n",
    "   ]\n",
    "  }\n",
    " ],\n",
    " \"metadata\": {\n",
    "  \"kernelspec\": {\n",
    "   \"display_name\": \"Python 3\",\n",
    "   \"language\": \"python\",\n",
    "   \"name\": \"python3\"\n",
    "  },\n",
    "  \"language_info\": {\n",
    "   \"codemirror_mode\": {\n",
    "    \"name\": \"ipython\",\n",
    "    \"version\": 3\n",
    "   },\n",
    "   \"file_extension\": \".py\",\n",
    "   \"mimetype\": \"text/x-python\",\n",
    "   \"name\": \"python\",\n",
    "   \"nbconvert_exporter\": \"python\",\n",
    "   \"pygments_lexer\": \"ipython3\",\n",
    "   \"version\": \"3.10.0\"\n",
    "  }\n",
    " },\n",
    " \"nbformat\": 4,\n",
    " \"nbformat_minor\": 5\n",
    "}"
   ]
  }
 ],
 "metadata": {
  "language_info": {
   "name": "python"
  }
 },
 "nbformat": 4,
 "nbformat_minor": 2
}
